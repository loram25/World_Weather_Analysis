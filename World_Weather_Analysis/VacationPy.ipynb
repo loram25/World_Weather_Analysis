{
 "cells": [
  {
   "cell_type": "code",
   "execution_count": 77,
   "metadata": {},
   "outputs": [],
   "source": [
    "#Import dependencies.\n",
    "import pandas as pd\n",
    "import gmaps\n",
    "import requests\n",
    "\n",
    "#Import the API key.\n",
    "from config import g_key"
   ]
  },
  {
   "cell_type": "code",
   "execution_count": 78,
   "metadata": {},
   "outputs": [
    {
     "data": {
      "text/html": [
       "<div>\n",
       "<style scoped>\n",
       "    .dataframe tbody tr th:only-of-type {\n",
       "        vertical-align: middle;\n",
       "    }\n",
       "\n",
       "    .dataframe tbody tr th {\n",
       "        vertical-align: top;\n",
       "    }\n",
       "\n",
       "    .dataframe thead th {\n",
       "        text-align: right;\n",
       "    }\n",
       "</style>\n",
       "<table border=\"1\" class=\"dataframe\">\n",
       "  <thead>\n",
       "    <tr style=\"text-align: right;\">\n",
       "      <th></th>\n",
       "      <th>City_ID</th>\n",
       "      <th>City</th>\n",
       "      <th>Lat</th>\n",
       "      <th>Lng</th>\n",
       "      <th>Max Temp</th>\n",
       "      <th>Humidity</th>\n",
       "      <th>Cloudiness</th>\n",
       "      <th>Wind Speed</th>\n",
       "      <th>Country</th>\n",
       "      <th>Date</th>\n",
       "    </tr>\n",
       "  </thead>\n",
       "  <tbody>\n",
       "    <tr>\n",
       "      <th>0</th>\n",
       "      <td>0</td>\n",
       "      <td>Esperance</td>\n",
       "      <td>-33.87</td>\n",
       "      <td>121.90</td>\n",
       "      <td>64.4</td>\n",
       "      <td>82</td>\n",
       "      <td>90</td>\n",
       "      <td>18.34</td>\n",
       "      <td>AU</td>\n",
       "      <td>2020-03-01 03:32:17</td>\n",
       "    </tr>\n",
       "    <tr>\n",
       "      <th>1</th>\n",
       "      <td>1</td>\n",
       "      <td>Hilo</td>\n",
       "      <td>19.73</td>\n",
       "      <td>-155.09</td>\n",
       "      <td>75.2</td>\n",
       "      <td>64</td>\n",
       "      <td>20</td>\n",
       "      <td>8.05</td>\n",
       "      <td>US</td>\n",
       "      <td>2020-03-01 03:35:29</td>\n",
       "    </tr>\n",
       "    <tr>\n",
       "      <th>2</th>\n",
       "      <td>2</td>\n",
       "      <td>Vila Franca Do Campo</td>\n",
       "      <td>37.72</td>\n",
       "      <td>-25.43</td>\n",
       "      <td>62.6</td>\n",
       "      <td>88</td>\n",
       "      <td>20</td>\n",
       "      <td>12.75</td>\n",
       "      <td>PT</td>\n",
       "      <td>2020-03-01 03:32:44</td>\n",
       "    </tr>\n",
       "    <tr>\n",
       "      <th>3</th>\n",
       "      <td>3</td>\n",
       "      <td>Hasaki</td>\n",
       "      <td>35.73</td>\n",
       "      <td>140.83</td>\n",
       "      <td>59.0</td>\n",
       "      <td>50</td>\n",
       "      <td>75</td>\n",
       "      <td>2.24</td>\n",
       "      <td>JP</td>\n",
       "      <td>2020-03-01 03:35:29</td>\n",
       "    </tr>\n",
       "    <tr>\n",
       "      <th>4</th>\n",
       "      <td>4</td>\n",
       "      <td>Pisco</td>\n",
       "      <td>-13.70</td>\n",
       "      <td>-76.22</td>\n",
       "      <td>73.4</td>\n",
       "      <td>83</td>\n",
       "      <td>90</td>\n",
       "      <td>10.29</td>\n",
       "      <td>PE</td>\n",
       "      <td>2020-03-01 03:35:29</td>\n",
       "    </tr>\n",
       "  </tbody>\n",
       "</table>\n",
       "</div>"
      ],
      "text/plain": [
       "   City_ID                  City    Lat     Lng  Max Temp  Humidity  \\\n",
       "0        0             Esperance -33.87  121.90      64.4        82   \n",
       "1        1                  Hilo  19.73 -155.09      75.2        64   \n",
       "2        2  Vila Franca Do Campo  37.72  -25.43      62.6        88   \n",
       "3        3                Hasaki  35.73  140.83      59.0        50   \n",
       "4        4                 Pisco -13.70  -76.22      73.4        83   \n",
       "\n",
       "   Cloudiness  Wind Speed Country                 Date  \n",
       "0          90       18.34      AU  2020-03-01 03:32:17  \n",
       "1          20        8.05      US  2020-03-01 03:35:29  \n",
       "2          20       12.75      PT  2020-03-01 03:32:44  \n",
       "3          75        2.24      JP  2020-03-01 03:35:29  \n",
       "4          90       10.29      PE  2020-03-01 03:35:29  "
      ]
     },
     "execution_count": 78,
     "metadata": {},
     "output_type": "execute_result"
    }
   ],
   "source": [
    "# Store the CSV you saved created in part one into a DataFrame.\n",
    "city_data_df = pd.read_csv(\"weather_data/cities.csv\")\n",
    "city_data_df.head()"
   ]
  },
  {
   "cell_type": "code",
   "execution_count": 79,
   "metadata": {},
   "outputs": [],
   "source": [
    "# Configure gmaps to use your Google API key.\n",
    "gmaps.configure(api_key=g_key)"
   ]
  },
  {
   "cell_type": "code",
   "execution_count": 80,
   "metadata": {},
   "outputs": [
    {
     "data": {
      "text/plain": [
       "City_ID         int64\n",
       "City           object\n",
       "Lat           float64\n",
       "Lng           float64\n",
       "Max Temp      float64\n",
       "Humidity        int64\n",
       "Cloudiness      int64\n",
       "Wind Speed    float64\n",
       "Country        object\n",
       "Date           object\n",
       "dtype: object"
      ]
     },
     "execution_count": 80,
     "metadata": {},
     "output_type": "execute_result"
    }
   ],
   "source": [
    "# Get the data types\n",
    "city_data_df.dtypes\n"
   ]
  },
  {
   "cell_type": "code",
   "execution_count": 81,
   "metadata": {},
   "outputs": [],
   "source": [
    "#Get the maximum temperature.\n",
    "max_temp = city_data_df[\"Max Temp\"]\n",
    "temps = []\n",
    "for temp in max_temp:\n",
    "    temps.append(max(temp, 0))\n",
    "#1. Assign the locations to an array of latitude and longitutde pairs.\n",
    "#locations=city_data_df[[\"Lat\",\"Lng\"]]\n",
    "\n",
    "#2. Assign the weights variable to some values.\n",
    "#get the maximum temperature\n",
    "#max_temp =city_data_df[\"Max Temp\"]\n",
    "\n",
    "#3. Assign the figure variable to the gmaps.figure() attribute.\n",
    "#fig=gmaps.figure()\n",
    "#4. Assign the heatmap_layer variable to the heatmap_layer attribue and add in the locations.\n",
    "#heat_layer = gmaps.heatmap_layer(locations, weights=temps)\n",
    "\n",
    "\n",
    "#5. Add the heatmap layer.\n",
    "#fig.add_layer(heat_layer)\n",
    "\n",
    "#6. Call the figure to plot the data.\n",
    "#fig"
   ]
  },
  {
   "cell_type": "code",
   "execution_count": 70,
   "metadata": {},
   "outputs": [
    {
     "data": {
      "application/vnd.jupyter.widget-view+json": {
       "model_id": "1a176f847bfe4541a23e9b84dfe54ce7",
       "version_major": 2,
       "version_minor": 0
      },
      "text/plain": [
       "Figure(layout=FigureLayout(height='420px'))"
      ]
     },
     "metadata": {},
     "output_type": "display_data"
    }
   ],
   "source": [
    "# Heatmap of temperature\n",
    "# Get the latitude and longitude.\n",
    "locations = city_data_df[[\"Lat\", \"Lng\"]]\n",
    "# Get the maximum temperature - Google heatmaps do not plot (- numbers) \n",
    "# use for loop to change (-s to 0)\n",
    "max_temp = city_data_df[\"Max Temp\"]\n",
    "temps = []\n",
    "for temp in max_temp:\n",
    "    temps.append(max(temp, 0))\n",
    "\n",
    "max_temp = city_data_df[\"Max Temp\"]\n",
    "# Assign the figure variable.\n",
    "fig = gmaps.figure(center=(30.0, 31.0), zoom_level=1.5)\n",
    "# Assign the heatmap variable - list comprehension method weights=[max(temp, 0) for temp in max_temp])\n",
    "heat_layer = gmaps.heatmap_layer(locations, weights=temps, dissipating=False, max_intensity=300, point_radius=4)\n",
    "# Add the heatmap layer.\n",
    "fig.add_layer(heat_layer)\n",
    "# Call the figure to plot the data.\n",
    "fig"
   ]
  },
  {
   "cell_type": "code",
   "execution_count": 76,
   "metadata": {},
   "outputs": [
    {
     "data": {
      "application/vnd.jupyter.widget-view+json": {
       "model_id": "588add9c76b14dedba2cfc56746741b0",
       "version_major": 2,
       "version_minor": 0
      },
      "text/plain": [
       "Figure(layout=FigureLayout(height='420px'))"
      ]
     },
     "metadata": {},
     "output_type": "display_data"
    }
   ],
   "source": [
    "#1. Assign the locations to an array of latitude and longitutde pairs.\n",
    "#locations=city_data_df[[\"Lat\",\"Lng\"]]\n",
    "\n",
    "#2. Assign the weights variable to some values.\n",
    "#get the maximum temperature\n",
    "#max_temp =city_data_df[\"Max Temp\"]\n",
    "\n",
    "#3. Assign the figure variable to the gmaps.figure() attribute.\n",
    "#fig=gmaps.figure(center=(30.0, 31.0), zoom_level=1.5)\n",
    "#4. Assign the heatmap_layer variable to the heatmap_layer attribue and add in the locations.\n",
    "#heat_layer = gmaps.heatmap_layer(locations, weights=[max(temp, 0) for temp in max_temp])\n",
    "\n",
    "\n",
    "#5. Add the heatmap layer.\n",
    "#fig.add_layer(heat_layer)\n",
    "\n",
    "#6. Call the figure to plot the data.\n",
    "#fig"
   ]
  },
  {
   "cell_type": "code",
   "execution_count": null,
   "metadata": {},
   "outputs": [],
   "source": []
  }
 ],
 "metadata": {
  "kernelspec": {
   "display_name": "PythonData",
   "language": "python",
   "name": "pythondata"
  },
  "language_info": {
   "codemirror_mode": {
    "name": "ipython",
    "version": 3
   },
   "file_extension": ".py",
   "mimetype": "text/x-python",
   "name": "python",
   "nbconvert_exporter": "python",
   "pygments_lexer": "ipython3",
   "version": "3.7.6"
  }
 },
 "nbformat": 4,
 "nbformat_minor": 4
}
